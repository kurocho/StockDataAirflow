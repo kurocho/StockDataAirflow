{
 "cells": [
  {
   "cell_type": "markdown",
   "metadata": {},
   "source": [
    "- Fiance api: https://pypi.org/project/yfinance/\n",
    "- Earnings calendar for next day: https://www.earningswhispers.com/calendar?sb=p&d=1&t=all\n",
    "- More Click: https://www.earningswhispers.com/morecalendar?sb=p&d=1&v=s\n",
    "- Raportowanie z danych z yfinance"
   ]
  },
  {
   "cell_type": "code",
   "execution_count": 2,
   "metadata": {},
   "outputs": [
    {
     "name": "stdout",
     "output_type": "stream",
     "text": [
      "Requirement already satisfied: beautifulsoup4 in c:\\users\\user\\anaconda3\\lib\\site-packages (4.9.3)\n",
      "Requirement already satisfied: soupsieve>1.2; python_version >= \"3.0\" in c:\\users\\user\\anaconda3\\lib\\site-packages (from beautifulsoup4) (2.0.1)\n",
      "Note: you may need to restart the kernel to use updated packages.\n"
     ]
    }
   ],
   "source": [
    "pip install beautifulsoup4"
   ]
  },
  {
   "cell_type": "code",
   "execution_count": 20,
   "metadata": {
    "ExecuteTime": {
     "end_time": "2022-01-09T15:34:46.485777Z",
     "start_time": "2022-01-09T15:34:46.477753Z"
    }
   },
   "outputs": [],
   "source": [
    "import requests\n",
    "import re\n",
    "from bs4 import BeautifulSoup\n",
    "\n",
    "html_tags_regex = r'<[^<]+?>'\n",
    "\n",
    "def parse_tickers(ticker_divs):\n",
    "    return [re.sub(html_tags_regex, '', str(x)) for x in ticker_divs]"
   ]
  },
  {
   "cell_type": "code",
   "execution_count": 21,
   "metadata": {
    "ExecuteTime": {
     "end_time": "2022-01-09T15:34:48.120323Z",
     "start_time": "2022-01-09T15:34:46.980178Z"
    }
   },
   "outputs": [],
   "source": [
    "URL = \"https://www.earningswhispers.com/calendar?sb=p&d=1&t=all\"\n",
    "page = requests.get(URL)\n",
    "\n",
    "soup = BeautifulSoup(page.content, \"html.parser\")"
   ]
  },
  {
   "cell_type": "code",
   "execution_count": 22,
   "metadata": {
    "ExecuteTime": {
     "end_time": "2022-01-09T15:34:48.166470Z",
     "start_time": "2022-01-09T15:34:48.151332Z"
    }
   },
   "outputs": [
    {
     "data": {
      "text/plain": [
       "['TLRY', 'CMC', 'AZZ', 'ACCD', 'LMNR']"
      ]
     },
     "execution_count": 22,
     "metadata": {},
     "output_type": "execute_result"
    }
   ],
   "source": [
    "ticker_elements = soup.find_all(\"div\", class_=\"ticker\")\n",
    "tickers = parse_tickers(ticker_elements)\n",
    "tickers"
   ]
  },
  {
   "cell_type": "code",
   "execution_count": 23,
   "metadata": {
    "ExecuteTime": {
     "end_time": "2022-01-09T15:34:48.877158Z",
     "start_time": "2022-01-09T15:34:48.198417Z"
    }
   },
   "outputs": [],
   "source": [
    "URL = \"https://www.earningswhispers.com/morecalendar?sb=p&d=1&v=s\"\n",
    "page = requests.get(URL)\n",
    "\n",
    "soup = BeautifulSoup(page.content, \"html.parser\")"
   ]
  },
  {
   "cell_type": "code",
   "execution_count": 24,
   "metadata": {
    "ExecuteTime": {
     "end_time": "2022-01-09T15:34:48.924300Z",
     "start_time": "2022-01-09T15:34:48.910383Z"
    }
   },
   "outputs": [
    {
     "data": {
      "text/plain": [
       "['TLRY', 'CMC', 'AZZ', 'ACCD', 'LMNR', 'VOXX']"
      ]
     },
     "execution_count": 24,
     "metadata": {},
     "output_type": "execute_result"
    }
   ],
   "source": [
    "ticker_elements = soup.find_all(\"div\", class_=\"ticker\")\n",
    "tickers.extend(parse_tickers(ticker_elements))\n",
    "tickers"
   ]
  },
  {
   "cell_type": "code",
   "execution_count": 36,
   "metadata": {
    "ExecuteTime": {
     "end_time": "2022-01-09T15:45:23.729130Z",
     "start_time": "2022-01-09T15:45:23.718130Z"
    }
   },
   "outputs": [],
   "source": [
    "import yfinance as yf\n",
    "\n",
    "def get_financial_data(ticker):\n",
    "\n",
    "    stock = yf.Ticker(ticker)\n",
    "\n",
    "    #info \n",
    "    info = stock.info\n",
    "    \n",
    "    # get historical market data\n",
    "    hist = stock.history(period=\"3mo\", interval=\"1d\")\n",
    "\n",
    "    quarterly_financials = stock.quarterly_financials\n",
    "\n",
    "    # show major holders\n",
    "    major_holders = stock.major_holders\n",
    "\n",
    "    # show news\n",
    "    news = stock.news\n",
    "\n",
    "    # get option chain for specific expiration\n",
    "    return info, hist, quarterly_financials, major_holders, news\n",
    "    # data available via: opt.calls, opt.puts"
   ]
  },
  {
   "cell_type": "code",
   "execution_count": 39,
   "metadata": {
    "ExecuteTime": {
     "end_time": "2022-01-09T15:46:32.244397Z",
     "start_time": "2022-01-09T15:46:29.321068Z"
    }
   },
   "outputs": [],
   "source": [
    "AAPL = get_financial_data(\"AAPL\")"
   ]
  },
  {
   "cell_type": "code",
   "execution_count": 42,
   "metadata": {
    "ExecuteTime": {
     "end_time": "2022-01-09T15:46:42.085609Z",
     "start_time": "2022-01-09T15:46:42.072609Z"
    }
   },
   "outputs": [
    {
     "data": {
      "text/plain": [
       "{'zip': '95014',\n",
       " 'sector': 'Technology',\n",
       " 'fullTimeEmployees': 154000,\n",
       " 'longBusinessSummary': 'Apple Inc. designs, manufactures, and markets smartphones, personal computers, tablets, wearables, and accessories worldwide. It also sells various related services. In addition, the company offers iPhone, a line of smartphones; Mac, a line of personal computers; iPad, a line of multi-purpose tablets; AirPods Max, an over-ear wireless headphone; and wearables, home, and accessories comprising AirPods, Apple TV, Apple Watch, Beats products, HomePod, and iPod touch. Further, it provides AppleCare support services; cloud services store services; and operates various platforms, including the App Store that allow customers to discover and download applications and digital content, such as books, music, video, games, and podcasts. Additionally, the company offers various services, such as Apple Arcade, a game subscription service; Apple Music, which offers users a curated listening experience with on-demand radio stations; Apple News+, a subscription news and magazine service; Apple TV+, which offers exclusive original content; Apple Card, a co-branded credit card; and Apple Pay, a cashless payment service, as well as licenses its intellectual property. The company serves consumers, and small and mid-sized businesses; and the education, enterprise, and government markets. It distributes third-party applications for its products through the App Store. The company also sells its products through its retail and online stores, and direct sales force; and third-party cellular network carriers, wholesalers, retailers, and resellers. Apple Inc. was incorporated in 1977 and is headquartered in Cupertino, California.',\n",
       " 'city': 'Cupertino',\n",
       " 'phone': '408 996 1010',\n",
       " 'state': 'CA',\n",
       " 'country': 'United States',\n",
       " 'companyOfficers': [],\n",
       " 'website': 'https://www.apple.com',\n",
       " 'maxAge': 1,\n",
       " 'address1': 'One Apple Park Way',\n",
       " 'industry': 'Consumer Electronics',\n",
       " 'ebitdaMargins': 0.32867,\n",
       " 'profitMargins': 0.25882,\n",
       " 'grossMargins': 0.41779,\n",
       " 'operatingCashflow': 104037998592,\n",
       " 'revenueGrowth': 0.288,\n",
       " 'operatingMargins': 0.29782,\n",
       " 'ebitda': 120233000960,\n",
       " 'targetLowPrice': 128.01,\n",
       " 'recommendationKey': 'buy',\n",
       " 'grossProfits': 152836000000,\n",
       " 'freeCashflow': 73295003648,\n",
       " 'targetMedianPrice': 174.5,\n",
       " 'currentPrice': 172.17,\n",
       " 'earningsGrowth': 0.662,\n",
       " 'currentRatio': 1.075,\n",
       " 'returnOnAssets': 0.20179,\n",
       " 'numberOfAnalystOpinions': 42,\n",
       " 'targetMeanPrice': 174.93,\n",
       " 'debtToEquity': 216.392,\n",
       " 'returnOnEquity': 1.47443,\n",
       " 'targetHighPrice': 210,\n",
       " 'totalCash': 62639001600,\n",
       " 'totalDebt': 136521998336,\n",
       " 'totalRevenue': 365817004032,\n",
       " 'totalCashPerShare': 3.818,\n",
       " 'financialCurrency': 'USD',\n",
       " 'revenuePerShare': 21.904,\n",
       " 'quickRatio': 0.91,\n",
       " 'recommendationMean': 1.8,\n",
       " 'exchange': 'NMS',\n",
       " 'shortName': 'Apple Inc.',\n",
       " 'longName': 'Apple Inc.',\n",
       " 'exchangeTimezoneName': 'America/New_York',\n",
       " 'exchangeTimezoneShortName': 'EST',\n",
       " 'isEsgPopulated': False,\n",
       " 'gmtOffSetMilliseconds': '-18000000',\n",
       " 'quoteType': 'EQUITY',\n",
       " 'symbol': 'AAPL',\n",
       " 'messageBoardId': 'finmb_24937',\n",
       " 'market': 'us_market',\n",
       " 'annualHoldingsTurnover': None,\n",
       " 'enterpriseToRevenue': 7.924,\n",
       " 'beta3Year': None,\n",
       " 'enterpriseToEbitda': 24.108,\n",
       " '52WeekChange': 0.33485806,\n",
       " 'morningStarRiskRating': None,\n",
       " 'forwardEps': 6.18,\n",
       " 'revenueQuarterlyGrowth': None,\n",
       " 'sharesOutstanding': 16406400000,\n",
       " 'fundInceptionDate': None,\n",
       " 'annualReportExpenseRatio': None,\n",
       " 'totalAssets': None,\n",
       " 'bookValue': 3.841,\n",
       " 'sharesShort': 113277024,\n",
       " 'sharesPercentSharesOut': 0.0069,\n",
       " 'fundFamily': None,\n",
       " 'lastFiscalYearEnd': 1632528000,\n",
       " 'heldPercentInstitutions': 0.59018004,\n",
       " 'netIncomeToCommon': 94679998464,\n",
       " 'trailingEps': 5.61,\n",
       " 'lastDividendValue': 0.22,\n",
       " 'SandP52WeekChange': 0.23092365,\n",
       " 'priceToBook': 44.824265,\n",
       " 'heldPercentInsiders': 0.00071000005,\n",
       " 'nextFiscalYearEnd': 1695600000,\n",
       " 'yield': None,\n",
       " 'mostRecentQuarter': 1632528000,\n",
       " 'shortRatio': 1,\n",
       " 'sharesShortPreviousMonthDate': 1636934400,\n",
       " 'floatShares': 16389662475,\n",
       " 'beta': 1.202736,\n",
       " 'enterpriseValue': 2898572345344,\n",
       " 'priceHint': 2,\n",
       " 'threeYearAverageReturn': None,\n",
       " 'lastSplitDate': 1598832000,\n",
       " 'lastSplitFactor': '4:1',\n",
       " 'legalType': None,\n",
       " 'lastDividendDate': 1636070400,\n",
       " 'morningStarOverallRating': None,\n",
       " 'earningsQuarterlyGrowth': 0.622,\n",
       " 'priceToSalesTrailing12Months': 7.721593,\n",
       " 'dateShortInterest': 1639526400,\n",
       " 'pegRatio': 2,\n",
       " 'ytdReturn': None,\n",
       " 'forwardPE': 27.859224,\n",
       " 'lastCapGain': None,\n",
       " 'shortPercentOfFloat': 0.0069,\n",
       " 'sharesShortPriorMonth': 99688619,\n",
       " 'impliedSharesOutstanding': None,\n",
       " 'category': None,\n",
       " 'fiveYearAverageReturn': None,\n",
       " 'previousClose': 172,\n",
       " 'regularMarketOpen': 172.89,\n",
       " 'twoHundredDayAverage': 145.32465,\n",
       " 'trailingAnnualDividendYield': 0.0049418607,\n",
       " 'payoutRatio': 0.1515,\n",
       " 'volume24Hr': None,\n",
       " 'regularMarketDayHigh': 174.14,\n",
       " 'navPrice': None,\n",
       " 'averageDailyVolume10Day': 82203130,\n",
       " 'regularMarketPreviousClose': 172,\n",
       " 'fiftyDayAverage': 164.814,\n",
       " 'trailingAnnualDividendRate': 0.85,\n",
       " 'open': 172.89,\n",
       " 'toCurrency': None,\n",
       " 'averageVolume10days': 82203130,\n",
       " 'expireDate': None,\n",
       " 'algorithm': None,\n",
       " 'dividendRate': 0.88,\n",
       " 'exDividendDate': 1636070400,\n",
       " 'circulatingSupply': None,\n",
       " 'startDate': None,\n",
       " 'regularMarketDayLow': 171.03,\n",
       " 'currency': 'USD',\n",
       " 'trailingPE': 30.689838,\n",
       " 'regularMarketVolume': 85116663,\n",
       " 'lastMarket': None,\n",
       " 'maxSupply': None,\n",
       " 'openInterest': None,\n",
       " 'marketCap': 2824689942528,\n",
       " 'volumeAllCurrencies': None,\n",
       " 'strikePrice': None,\n",
       " 'averageVolume': 90547149,\n",
       " 'dayLow': 171.03,\n",
       " 'ask': 172.07,\n",
       " 'askSize': 800,\n",
       " 'volume': 85116663,\n",
       " 'fiftyTwoWeekHigh': 182.94,\n",
       " 'fromCurrency': None,\n",
       " 'fiveYearAvgDividendYield': 1.17,\n",
       " 'fiftyTwoWeekLow': 116.21,\n",
       " 'bid': 172.04,\n",
       " 'tradeable': False,\n",
       " 'dividendYield': 0.0050999997,\n",
       " 'bidSize': 1800,\n",
       " 'dayHigh': 174.14,\n",
       " 'regularMarketPrice': 172.17,\n",
       " 'preMarketPrice': None,\n",
       " 'logo_url': 'https://logo.clearbit.com/apple.com'}"
      ]
     },
     "execution_count": 42,
     "metadata": {},
     "output_type": "execute_result"
    }
   ],
   "source": [
    "AAPL[0]"
   ]
  },
  {
   "cell_type": "code",
   "execution_count": 188,
   "metadata": {
    "ExecuteTime": {
     "end_time": "2022-01-09T17:17:53.155569Z",
     "start_time": "2022-01-09T17:17:36.354890Z"
    }
   },
   "outputs": [],
   "source": [
    "import pickle\n",
    "import datetime\n",
    "\n",
    "today = datetime.datetime.today()\n",
    "tomorrow = today + datetime.timedelta(days=1)\n",
    "tomorrow_date = str(tomorrow).split(\" \")[0]\n",
    "\n",
    "for ticker in tickers:\n",
    "    filename = f'tmp/{ticker}_{tomorrow_date}.pickle'\n",
    "    with open(filename, 'wb') as handle:\n",
    "        pickle.dump(get_financial_data(ticker), handle, protocol=pickle.HIGHEST_PROTOCOL)\n",
    "\n"
   ]
  },
  {
   "cell_type": "code",
   "execution_count": 189,
   "metadata": {
    "ExecuteTime": {
     "end_time": "2022-01-09T17:17:53.386670Z",
     "start_time": "2022-01-09T17:17:53.342327Z"
    },
    "scrolled": false
   },
   "outputs": [
    {
     "name": "stdout",
     "output_type": "stream",
     "text": [
      "For TLRY:\n",
      "For CMC:\n",
      "For AZZ:\n",
      "For ACCD:\n",
      "For LMNR:\n",
      "For VOXX:\n"
     ]
    }
   ],
   "source": [
    "decoded_tickers = dict()\n",
    "for ticker in tickers:\n",
    "    filename = f'tmp/{ticker}_{tomorrow_date}.pickle'\n",
    "    print(f'For {ticker}:')\n",
    "    with open(filename, 'rb') as handle:\n",
    "        decoded_tickers[ticker] = pickle.load(handle)"
   ]
  },
  {
   "cell_type": "markdown",
   "metadata": {},
   "source": [
    "# Report Generation"
   ]
  },
  {
   "cell_type": "code",
   "execution_count": null,
   "metadata": {
    "ExecuteTime": {
     "start_time": "2022-01-09T17:17:53.509Z"
    }
   },
   "outputs": [
    {
     "name": "stdout",
     "output_type": "stream",
     "text": [
      "For TLRY:\n",
      "For CMC:\n",
      "For AZZ:\n",
      "For ACCD:\n",
      "For LMNR:\n",
      "For VOXX:\n"
     ]
    }
   ],
   "source": [
    "from fpdf import FPDF\n",
    "import datetime\n",
    "import matplotlib.pyplot as plt\n",
    "import matplotlib.image as mpimg\n",
    "\n",
    "today = datetime.datetime.today()\n",
    "tomorrow = today + datetime.timedelta(days=1)\n",
    "tomorrow_date = str(tomorrow).split(\" \")[0]\n",
    "\n",
    "\n",
    "pdf = FPDF()\n",
    "  \n",
    "\n",
    "# Add a page\n",
    "pdf.add_page()\n",
    "  \n",
    "# set style and size of font \n",
    "# that you want in the pdf\n",
    "pdf.set_font(\"Arial\", size = 15)\n",
    "# create a cell\n",
    "pdf.cell(200, 10, txt = \"Stock Earnings Report\", \n",
    "         ln = 1, align = 'C')\n",
    "\n",
    "pdf.cell(200, 10, txt = tomorrow_date, \n",
    "         ln = 1, align = 'C')\n",
    "\n",
    "\n",
    "for ticker in tickers:\n",
    "    filename = f'tmp/{ticker}_{tomorrow_date}.pickle'\n",
    "    print(f'For {ticker}:')\n",
    "    with open(filename, 'rb') as handle:\n",
    "        decoded_tickers[ticker] = pickle.load(handle)\n",
    "\n",
    "        pdf.set_font(\"Arial\", size = 15)\n",
    "        pdf.cell(150, 8, txt = ticker,\n",
    "                 ln = 1, align = 'A')\n",
    "        pdf.set_font(\"Arial\", size = 10)\n",
    "        sector = decoded_tickers[ticker][0]['sector']\n",
    "        employees = decoded_tickers[ticker][0]['fullTimeEmployees']\n",
    "        summary = decoded_tickers[ticker][0]['longBusinessSummary']\n",
    "        website = decoded_tickers[ticker][0]['website']\n",
    "        pdf.cell(150, 4, txt = f'Sector: {sector}',\n",
    "                 ln = 0, align = 'A')\n",
    "        pdf.cell(150, 4, txt = f'Employees: {employees}',\n",
    "                 ln = 1, align = 'B')\n",
    "        pdf.set_font(\"Arial\", size = 8)\n",
    "        pdf.cell(150, 4, txt = f'Website: {website}',link=website,\n",
    "                 ln = 1, align = 'A')\n",
    "        pdf.multi_cell(180, 3, txt = summary, align = 'A')\n",
    "        history = decoded_tickers[ticker][1]\n",
    "        # Volume fig\n",
    "        pdf.set_font(\"Arial\", size = 10)\n",
    "        pdf.cell(150, 4, txt = f'Volume', ln = 1, align = 'A')\n",
    "        fig = plt.figure()\n",
    "        fig = history['Volume'].plot().get_figure()\n",
    "        fig.savefig(f'tmp/volume_{ticker}.png',dpi=300)\n",
    "        pdf.image(f'tmp/volume_{ticker}.png',w=100)\n",
    "        \n",
    "        # Price\n",
    "        pdf.set_font(\"Arial\", size = 10)\n",
    "        pdf.cell(150, 4, txt = f'Price', ln = 1, align = 'A')\n",
    "        fig = plt.figure()\n",
    "        fig = history.loc[:,['Open','Close']].plot().get_figure()\n",
    "        fig.savefig(f'tmp/price_{ticker}.png',dpi=300)\n",
    "        pdf.image(f'tmp/price_{ticker}.png',w=100)\n",
    "\n",
    "        pdf.add_page()\n",
    "pdf.output(f'Report_{tomorrow_date}.pdf') "
   ]
  },
  {
   "cell_type": "code",
   "execution_count": null,
   "metadata": {},
   "outputs": [],
   "source": []
  }
 ],
 "metadata": {
  "kernelspec": {
   "display_name": "Python 3",
   "language": "python",
   "name": "python3"
  },
  "language_info": {
   "codemirror_mode": {
    "name": "ipython",
    "version": 3
   },
   "file_extension": ".py",
   "mimetype": "text/x-python",
   "name": "python",
   "nbconvert_exporter": "python",
   "pygments_lexer": "ipython3",
   "version": "3.8.5"
  },
  "varInspector": {
   "cols": {
    "lenName": 16,
    "lenType": 16,
    "lenVar": 40
   },
   "kernels_config": {
    "python": {
     "delete_cmd_postfix": "",
     "delete_cmd_prefix": "del ",
     "library": "var_list.py",
     "varRefreshCmd": "print(var_dic_list())"
    },
    "r": {
     "delete_cmd_postfix": ") ",
     "delete_cmd_prefix": "rm(",
     "library": "var_list.r",
     "varRefreshCmd": "cat(var_dic_list()) "
    }
   },
   "oldHeight": 361.85,
   "position": {
    "height": "40px",
    "left": "1300px",
    "right": "20px",
    "top": "120px",
    "width": "360px"
   },
   "types_to_exclude": [
    "module",
    "function",
    "builtin_function_or_method",
    "instance",
    "_Feature"
   ],
   "varInspector_section_display": "none",
   "window_display": true
  }
 },
 "nbformat": 4,
 "nbformat_minor": 4
}
