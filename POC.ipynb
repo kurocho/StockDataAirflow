{
 "cells": [
  {
   "cell_type": "markdown",
   "metadata": {},
   "source": [
    "- Fiance api: https://pypi.org/project/yfinance/\n",
    "- Earnings calendar for next day: https://www.earningswhispers.com/calendar?sb=p&d=1&t=all\n",
    "- More Click: https://www.earningswhispers.com/morecalendar?sb=p&d=1&v=s\n",
    "- Raportowanie z danych z yfinance"
   ]
  },
  {
   "cell_type": "code",
   "execution_count": 2,
   "metadata": {},
   "outputs": [
    {
     "name": "stdout",
     "output_type": "stream",
     "text": [
      "Requirement already satisfied: beautifulsoup4 in c:\\users\\user\\anaconda3\\lib\\site-packages (4.9.3)\n",
      "Requirement already satisfied: soupsieve>1.2; python_version >= \"3.0\" in c:\\users\\user\\anaconda3\\lib\\site-packages (from beautifulsoup4) (2.0.1)\n",
      "Note: you may need to restart the kernel to use updated packages.\n"
     ]
    }
   ],
   "source": [
    "pip install beautifulsoup4"
   ]
  },
  {
   "cell_type": "code",
   "execution_count": 1,
   "metadata": {
    "ExecuteTime": {
     "end_time": "2022-01-05T17:20:53.151701Z",
     "start_time": "2022-01-05T17:20:52.961446Z"
    }
   },
   "outputs": [],
   "source": [
    "import requests\n",
    "import re\n",
    "from bs4 import BeautifulSoup\n",
    "\n",
    "html_tags_regex = r'<[^<]+?>'\n",
    "\n",
    "def parse_tickers(ticker_divs):\n",
    "    return [re.sub(html_tags_regex, '', str(x)) for x in ticker_divs]"
   ]
  },
  {
   "cell_type": "code",
   "execution_count": 2,
   "metadata": {
    "ExecuteTime": {
     "end_time": "2022-01-05T17:20:54.430197Z",
     "start_time": "2022-01-05T17:20:53.522311Z"
    }
   },
   "outputs": [],
   "source": [
    "URL = \"https://www.earningswhispers.com/calendar?sb=p&d=1&t=all\"\n",
    "page = requests.get(URL)\n",
    "\n",
    "soup = BeautifulSoup(page.content, \"html.parser\")"
   ]
  },
  {
   "cell_type": "code",
   "execution_count": 3,
   "metadata": {
    "ExecuteTime": {
     "end_time": "2022-01-05T17:20:54.509127Z",
     "start_time": "2022-01-05T17:20:54.494747Z"
    }
   },
   "outputs": [
    {
     "data": {
      "text/plain": [
       "['BBBY',\n",
       " 'WBA',\n",
       " 'STZ',\n",
       " 'CAG',\n",
       " 'LW',\n",
       " 'HELE',\n",
       " 'NTIC',\n",
       " 'SCHN',\n",
       " 'ANGO',\n",
       " 'LNN',\n",
       " 'WDFC',\n",
       " 'DCT',\n",
       " 'KRUS',\n",
       " 'SLP',\n",
       " 'FC']"
      ]
     },
     "execution_count": 3,
     "metadata": {},
     "output_type": "execute_result"
    }
   ],
   "source": [
    "ticker_elements = soup.find_all(\"div\", class_=\"ticker\")\n",
    "tickers = parse_tickers(ticker_elements)\n",
    "tickers"
   ]
  },
  {
   "cell_type": "code",
   "execution_count": 4,
   "metadata": {
    "ExecuteTime": {
     "end_time": "2022-01-05T17:20:55.239804Z",
     "start_time": "2022-01-05T17:20:54.573822Z"
    }
   },
   "outputs": [],
   "source": [
    "URL = \"https://www.earningswhispers.com/morecalendar?sb=p&d=1&v=s\"\n",
    "page = requests.get(URL)\n",
    "\n",
    "soup = BeautifulSoup(page.content, \"html.parser\")"
   ]
  },
  {
   "cell_type": "code",
   "execution_count": 5,
   "metadata": {
    "ExecuteTime": {
     "end_time": "2022-01-05T17:20:55.287443Z",
     "start_time": "2022-01-05T17:20:55.272444Z"
    }
   },
   "outputs": [
    {
     "data": {
      "text/plain": [
       "['BBBY',\n",
       " 'WBA',\n",
       " 'STZ',\n",
       " 'CAG',\n",
       " 'LW',\n",
       " 'HELE',\n",
       " 'NTIC',\n",
       " 'SCHN',\n",
       " 'ANGO',\n",
       " 'LNN',\n",
       " 'WDFC',\n",
       " 'DCT',\n",
       " 'KRUS',\n",
       " 'SLP',\n",
       " 'FC',\n",
       " 'CSVI',\n",
       " 'KOR',\n",
       " 'PKE',\n",
       " 'STZ.B',\n",
       " 'AEHR',\n",
       " 'EDUC',\n",
       " 'PSMT']"
      ]
     },
     "execution_count": 5,
     "metadata": {},
     "output_type": "execute_result"
    }
   ],
   "source": [
    "ticker_elements = soup.find_all(\"div\", class_=\"ticker\")\n",
    "tickers.extend(parse_tickers(ticker_elements))\n",
    "tickers"
   ]
  },
  {
   "cell_type": "code",
   "execution_count": 18,
   "metadata": {
    "ExecuteTime": {
     "end_time": "2022-01-05T17:25:14.757386Z",
     "start_time": "2022-01-05T17:25:14.742387Z"
    }
   },
   "outputs": [],
   "source": [
    "import yfinance as yf\n",
    "\n",
    "def get_financial_data(ticker):\n",
    "\n",
    "    stock = yf.Ticker(ticker)\n",
    "\n",
    "    # get stock info\n",
    "    stock.info\n",
    "\n",
    "    # get historical market data\n",
    "    hist = stock.history(period=\"max\")\n",
    "\n",
    "    # show actions (dividends, splits)\n",
    "    stock.actions\n",
    "\n",
    "    # show dividends\n",
    "    stock.dividends\n",
    "\n",
    "    # show splits\n",
    "    stock.splits\n",
    "\n",
    "    # show financials\n",
    "    stock.financials\n",
    "    stock.quarterly_financials\n",
    "\n",
    "    # show major holders\n",
    "    stock.major_holders\n",
    "\n",
    "    # show institutional holders\n",
    "    stock.institutional_holders\n",
    "\n",
    "    # show balance sheet\n",
    "    stock.balance_sheet\n",
    "    stock.quarterly_balance_sheet\n",
    "\n",
    "    # show cashflow\n",
    "    stock.cashflow\n",
    "    stock.quarterly_cashflow\n",
    "\n",
    "    # show earnings\n",
    "    stock.earnings\n",
    "    stock.quarterly_earnings\n",
    "\n",
    "    # show sustainability\n",
    "    stock.sustainability\n",
    "\n",
    "    # show analysts recommendations\n",
    "    stock.recommendations\n",
    "\n",
    "    # show next event (earnings, etc)\n",
    "    stock.calendar\n",
    "\n",
    "    # show ISIN code - *experimental*\n",
    "    # ISIN = International Securities Identification Number\n",
    "    stock.isin\n",
    "\n",
    "    # show options expirations\n",
    "    stock.options\n",
    "\n",
    "    # show news\n",
    "    stock.news\n",
    "\n",
    "    # get option chain for specific expiration\n",
    "    return stock\n",
    "    # data available via: opt.calls, opt.puts"
   ]
  },
  {
   "cell_type": "code",
   "execution_count": 7,
   "metadata": {
    "ExecuteTime": {
     "end_time": "2022-01-05T17:21:11.118879Z",
     "start_time": "2022-01-05T17:21:11.111880Z"
    }
   },
   "outputs": [],
   "source": [
    "\"\"\"\n",
    "Encode Options class from yfinance to tuple of calls and puts dataframes\n",
    "\"\"\"\n",
    "def encode_options(options):\n",
    "    return options[0], options[1]"
   ]
  },
  {
   "cell_type": "code",
   "execution_count": 8,
   "metadata": {
    "ExecuteTime": {
     "end_time": "2022-01-05T17:21:14.023993Z",
     "start_time": "2022-01-05T17:21:13.840901Z"
    }
   },
   "outputs": [
    {
     "ename": "NameError",
     "evalue": "name 'date' is not defined",
     "output_type": "error",
     "traceback": [
      "\u001b[1;31m---------------------------------------------------------------------------\u001b[0m",
      "\u001b[1;31mNameError\u001b[0m                                 Traceback (most recent call last)",
      "\u001b[1;32m<ipython-input-8-06f9ab2f32db>\u001b[0m in \u001b[0;36m<module>\u001b[1;34m\u001b[0m\n\u001b[0;32m      2\u001b[0m \u001b[1;32mimport\u001b[0m \u001b[0mdatetime\u001b[0m\u001b[1;33m\u001b[0m\u001b[1;33m\u001b[0m\u001b[0m\n\u001b[0;32m      3\u001b[0m \u001b[1;33m\u001b[0m\u001b[0m\n\u001b[1;32m----> 4\u001b[1;33m \u001b[0mtoday\u001b[0m \u001b[1;33m=\u001b[0m \u001b[0mdate\u001b[0m\u001b[1;33m.\u001b[0m\u001b[0mtoday\u001b[0m\u001b[1;33m(\u001b[0m\u001b[1;33m)\u001b[0m\u001b[1;33m\u001b[0m\u001b[1;33m\u001b[0m\u001b[0m\n\u001b[0m\u001b[0;32m      5\u001b[0m \u001b[0mtomorrow\u001b[0m \u001b[1;33m=\u001b[0m \u001b[0mtoday\u001b[0m \u001b[1;33m+\u001b[0m \u001b[0mdatetime\u001b[0m\u001b[1;33m.\u001b[0m\u001b[0mtimedelta\u001b[0m\u001b[1;33m(\u001b[0m\u001b[0mdays\u001b[0m\u001b[1;33m=\u001b[0m\u001b[1;36m1\u001b[0m\u001b[1;33m)\u001b[0m\u001b[1;33m\u001b[0m\u001b[1;33m\u001b[0m\u001b[0m\n\u001b[0;32m      6\u001b[0m \u001b[0mfilename\u001b[0m \u001b[1;33m=\u001b[0m \u001b[0mstr\u001b[0m\u001b[1;33m(\u001b[0m\u001b[0mtomorrow\u001b[0m\u001b[1;33m)\u001b[0m \u001b[1;33m+\u001b[0m \u001b[1;34m'.pickle'\u001b[0m\u001b[1;33m\u001b[0m\u001b[1;33m\u001b[0m\u001b[0m\n",
      "\u001b[1;31mNameError\u001b[0m: name 'date' is not defined"
     ]
    }
   ],
   "source": [
    "import pickle\n",
    "import datetime\n",
    "\n",
    "today = date.today()\n",
    "tomorrow = today + datetime.timedelta(days=1)\n",
    "filename = str(tomorrow) + '.pickle'\n",
    "\n",
    "encoded_tickers = dict()\n",
    "\n",
    "for ticker in tickers:\n",
    "    encoded_tickers[ticker] = encode_options(get_financial_data(ticker))\n",
    "\n",
    "with open(filename, 'wb') as handle:\n",
    "    pickle.dump(encoded_tickers, handle, protocol=pickle.HIGHEST_PROTOCOL)"
   ]
  },
  {
   "cell_type": "code",
   "execution_count": 36,
   "metadata": {
    "ExecuteTime": {
     "end_time": "2021-12-20T09:34:21.220397Z",
     "start_time": "2021-12-20T09:34:21.190304Z"
    },
    "scrolled": false
   },
   "outputs": [
    {
     "name": "stdout",
     "output_type": "stream",
     "text": [
      "For SGH:\n",
      "CALLS:\n",
      "        contractSymbol       lastTradeDate  strike  lastPrice   bid   ask  \\\n",
      "0   SGH220121C00030000 2021-12-03 14:53:54    30.0      31.10  40.7  42.8   \n",
      "1   SGH220121C00035000 2021-12-15 16:32:51    35.0      21.80   0.0   0.0   \n",
      "2   SGH220121C00040000 2021-12-31 20:57:06    40.0      31.10   0.0   0.0   \n",
      "3   SGH220121C00045000 2021-12-22 16:20:21    45.0      20.15   0.0   0.0   \n",
      "4   SGH220121C00050000 2021-12-27 16:25:46    50.0      20.60   0.0   0.0   \n",
      "5   SGH220121C00055000 2021-12-31 20:44:51    55.0      17.20   0.0   0.0   \n",
      "6   SGH220121C00060000 2021-12-31 17:56:14    60.0      12.45   0.0   0.0   \n",
      "7   SGH220121C00065000 2021-12-31 20:37:47    65.0       8.54   0.0   0.0   \n",
      "8   SGH220121C00070000 2021-12-31 20:52:49    70.0       5.30   0.0   0.0   \n",
      "9   SGH220121C00075000 2021-12-31 20:46:05    75.0       3.10   0.0   0.0   \n",
      "10  SGH220121C00080000 2021-12-31 20:37:01    80.0       1.55   0.0   0.0   \n",
      "11  SGH220121C00085000 2021-12-31 20:59:47    85.0       0.82   0.0   0.0   \n",
      "12  SGH220121C00090000 2021-12-31 17:32:02    90.0       0.44   0.0   0.0   \n",
      "13  SGH220121C00095000 2021-12-31 20:57:40    95.0       0.20   0.0   0.0   \n",
      "14  SGH220121C00105000 2021-12-31 19:08:32   105.0       0.10   0.0   0.0   \n",
      "\n",
      "    change  percentChange  volume  openInterest  impliedVolatility  \\\n",
      "0      0.0            0.0    10.0            10           2.521488   \n",
      "1      0.0            0.0    10.0            10           0.000010   \n",
      "2      0.0            0.0    10.0            48           0.000010   \n",
      "3      0.0            0.0     NaN            11           0.000010   \n",
      "4      0.0            0.0    10.0            61           0.000010   \n",
      "5      0.0            0.0     1.0           225           0.000010   \n",
      "6      0.0            0.0     6.0           164           0.000010   \n",
      "7      0.0            0.0    15.0           338           0.000010   \n",
      "8      0.0            0.0    20.0           367           0.000010   \n",
      "9      0.0            0.0   281.0           641           0.062509   \n",
      "10     0.0            0.0    43.0           243           0.125009   \n",
      "11     0.0            0.0    49.0           175           0.250007   \n",
      "12     0.0            0.0     8.0            12           0.250007   \n",
      "13     0.0            0.0     3.0             6           0.250007   \n",
      "14     0.0            0.0    27.0            31           0.500005   \n",
      "\n",
      "    inTheMoney contractSize currency  \n",
      "0         True      REGULAR      USD  \n",
      "1         True      REGULAR      USD  \n",
      "2         True      REGULAR      USD  \n",
      "3         True      REGULAR      USD  \n",
      "4         True      REGULAR      USD  \n",
      "5         True      REGULAR      USD  \n",
      "6         True      REGULAR      USD  \n",
      "7         True      REGULAR      USD  \n",
      "8         True      REGULAR      USD  \n",
      "9        False      REGULAR      USD  \n",
      "10       False      REGULAR      USD  \n",
      "11       False      REGULAR      USD  \n",
      "12       False      REGULAR      USD  \n",
      "13       False      REGULAR      USD  \n",
      "14       False      REGULAR      USD  \n",
      "PUTS:\n",
      "        contractSymbol       lastTradeDate  strike  lastPrice  bid  ask  \\\n",
      "0   SGH220121P00030000 2021-12-30 17:42:42    30.0       0.05  0.0  0.0   \n",
      "1   SGH220121P00035000 2021-12-30 17:46:31    35.0       0.11  0.0  0.0   \n",
      "2   SGH220121P00040000 2021-12-20 14:57:25    40.0       0.30  0.0  0.0   \n",
      "3   SGH220121P00045000 2021-12-31 18:14:51    45.0       0.11  0.0  0.0   \n",
      "4   SGH220121P00050000 2021-12-31 18:14:09    50.0       0.25  0.0  0.0   \n",
      "5   SGH220121P00055000 2021-12-31 16:27:19    55.0       0.37  0.0  0.0   \n",
      "6   SGH220121P00060000 2021-12-31 19:03:16    60.0       0.85  0.0  0.0   \n",
      "7   SGH220121P00065000 2021-12-31 20:57:36    65.0       2.08  0.0  0.0   \n",
      "8   SGH220121P00070000 2021-12-31 20:57:36    70.0       3.93  0.0  0.0   \n",
      "9   SGH220121P00075000 2021-12-29 15:15:13    75.0       6.70  0.0  0.0   \n",
      "10  SGH220121P00080000 2021-12-31 18:46:01    80.0       9.85  0.0  0.0   \n",
      "11  SGH220121P00085000 2021-12-29 17:42:12    85.0      14.50  0.0  0.0   \n",
      "\n",
      "    change  percentChange  volume  openInterest  impliedVolatility  \\\n",
      "0      0.0            0.0    20.0            23           0.500005   \n",
      "1      0.0            0.0     NaN            10           0.500005   \n",
      "2      0.0            0.0     2.0             3           0.500005   \n",
      "3      0.0            0.0     1.0            79           0.500005   \n",
      "4      0.0            0.0     4.0         11417           0.250007   \n",
      "5      0.0            0.0     2.0           398           0.250007   \n",
      "6      0.0            0.0    26.0           165           0.125009   \n",
      "7      0.0            0.0    19.0           110           0.125009   \n",
      "8      0.0            0.0    12.0            37           0.015635   \n",
      "9      0.0            0.0     4.0            64           0.000010   \n",
      "10     0.0            0.0     2.0             2           0.000010   \n",
      "11     0.0            0.0     1.0            11           0.000010   \n",
      "\n",
      "    inTheMoney contractSize currency  \n",
      "0        False      REGULAR      USD  \n",
      "1        False      REGULAR      USD  \n",
      "2        False      REGULAR      USD  \n",
      "3        False      REGULAR      USD  \n",
      "4        False      REGULAR      USD  \n",
      "5        False      REGULAR      USD  \n",
      "6        False      REGULAR      USD  \n",
      "7        False      REGULAR      USD  \n",
      "8        False      REGULAR      USD  \n",
      "9         True      REGULAR      USD  \n",
      "10        True      REGULAR      USD  \n",
      "11        True      REGULAR      USD  \n",
      "For MLKN:\n",
      "CALLS:\n",
      "        contractSymbol       lastTradeDate  strike  lastPrice  bid   ask  \\\n",
      "0  MLKN220121C00030000 2021-11-29 16:22:02    30.0       8.90  7.4  9.90   \n",
      "1  MLKN220121C00035000 2021-12-31 15:04:11    35.0       4.00  0.0  0.00   \n",
      "2  MLKN220121C00040000 2021-12-31 17:46:19    40.0       1.40  0.0  0.00   \n",
      "3  MLKN220121C00045000 2021-12-31 20:51:49    45.0       0.32  0.0  0.00   \n",
      "4  MLKN220121C00050000 2021-11-22 19:50:18    50.0       0.60  0.0  0.45   \n",
      "\n",
      "   change  percentChange  volume  openInterest  impliedVolatility  inTheMoney  \\\n",
      "0     0.0            0.0     NaN             6           1.144536        True   \n",
      "1     0.0            0.0     5.0             8           0.000010        True   \n",
      "2     0.0            0.0     4.0            85           0.031260       False   \n",
      "3     0.0            0.0     2.0           126           0.125009       False   \n",
      "4     0.0            0.0     NaN             3           0.722659       False   \n",
      "\n",
      "  contractSize currency  \n",
      "0      REGULAR      USD  \n",
      "1      REGULAR      USD  \n",
      "2      REGULAR      USD  \n",
      "3      REGULAR      USD  \n",
      "4      REGULAR      USD  \n",
      "PUTS:\n",
      "        contractSymbol       lastTradeDate  strike  lastPrice  bid  ask  \\\n",
      "0  MLKN220121P00030000 2021-12-23 14:46:30    30.0       0.30  0.0  0.0   \n",
      "1  MLKN220121P00035000 2021-12-31 20:51:49    35.0       0.58  0.0  0.0   \n",
      "2  MLKN220121P00040000 2021-12-31 20:34:58    40.0       2.65  0.0  0.0   \n",
      "3  MLKN220121P00045000 2021-12-31 20:35:56    45.0       5.65  0.0  0.0   \n",
      "\n",
      "   change  percentChange  volume  openInterest  impliedVolatility  inTheMoney  \\\n",
      "0     0.0            0.0      10            26           0.250007       False   \n",
      "1     0.0            0.0       9            23           0.125009       False   \n",
      "2     0.0            0.0      10            44           0.000010        True   \n",
      "3     0.0            0.0      10            30           0.000010        True   \n",
      "\n",
      "  contractSize currency  \n",
      "0      REGULAR      USD  \n",
      "1      REGULAR      USD  \n",
      "2      REGULAR      USD  \n",
      "3      REGULAR      USD  \n"
     ]
    }
   ],
   "source": [
    "with open(filename, 'rb') as handle:\n",
    "    decoded_tickers = pickle.load(handle)\n",
    "\n",
    "    for decoded_ticker in decoded_tickers.keys():\n",
    "        print(f'For {decoded_ticker}:')\n",
    "        print(f'CALLS:')\n",
    "        print(decoded_tickers[decoded_ticker][0])\n",
    "        print(f'PUTS:')\n",
    "        print(decoded_tickers[decoded_ticker][1])"
   ]
  },
  {
   "cell_type": "code",
   "execution_count": null,
   "metadata": {},
   "outputs": [],
   "source": []
  }
 ],
 "metadata": {
  "kernelspec": {
   "display_name": "Python 3",
   "language": "python",
   "name": "python3"
  },
  "language_info": {
   "codemirror_mode": {
    "name": "ipython",
    "version": 3
   },
   "file_extension": ".py",
   "mimetype": "text/x-python",
   "name": "python",
   "nbconvert_exporter": "python",
   "pygments_lexer": "ipython3",
   "version": "3.8.5"
  },
  "varInspector": {
   "cols": {
    "lenName": 16,
    "lenType": 16,
    "lenVar": 40
   },
   "kernels_config": {
    "python": {
     "delete_cmd_postfix": "",
     "delete_cmd_prefix": "del ",
     "library": "var_list.py",
     "varRefreshCmd": "print(var_dic_list())"
    },
    "r": {
     "delete_cmd_postfix": ") ",
     "delete_cmd_prefix": "rm(",
     "library": "var_list.r",
     "varRefreshCmd": "cat(var_dic_list()) "
    }
   },
   "types_to_exclude": [
    "module",
    "function",
    "builtin_function_or_method",
    "instance",
    "_Feature"
   ],
   "window_display": false
  }
 },
 "nbformat": 4,
 "nbformat_minor": 4
}
